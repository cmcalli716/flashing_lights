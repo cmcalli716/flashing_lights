{
 "cells": [
  {
   "cell_type": "markdown",
   "metadata": {},
   "source": [
    "# flashing_lights.ROILocator() Example Notebook\n",
    "\n",
    "* This function generates video from stack of images to highlight the region of interest (ROI) and show the accumulative ROI count. This function is useful to locate ROI with desired threshold and visualize the result with output video.\n",
    "\n",
    "\n",
    "* The output video file format is .avi.\n",
    "\n",
    "\n",
    "* Videos or stack of images should be converted to .tif or any other scikit-image-readable file type."
   ]
  },
  {
   "cell_type": "markdown",
   "metadata": {},
   "source": [
    "### Import necessary module\n",
    "\n",
    "Certain modules need to be imported before running the function `ROILocator()`. Here are the modules that are used in the function."
   ]
  },
  {
   "cell_type": "code",
   "execution_count": 1,
   "metadata": {},
   "outputs": [],
   "source": [
    "# import modules and libraries\n",
    "import cv2\n",
    "import numpy as np\n",
    "import skimage\n",
    "import skimage.io as sio\n",
    "import matplotlib.pyplot as plt\n",
    "import matplotlib.patches as patches\n",
    "import matplotlib\n",
    "import os\n",
    "from skimage.feature import blob_dog\n",
    "\n",
    "import ROILocator"
   ]
  },
  {
   "cell_type": "markdown",
   "metadata": {},
   "source": [
    "### Wrapped function ROILocator()\n",
    "\n",
    "This function can locate the ROI and create a ROI-highlighted video automatically. There are some input variables that you may want to define before running.\n",
    "\n",
    "\n",
    "* Path to images\n",
    "\n",
    "\n",
    "* Path to working directory: Directory that you want the images and video to be stored. Images with ROI patch are part of video, and are deleted after the video is created. You may want to make sure there is enough space depends on how big your images are.\n",
    "\n",
    "\n",
    "* Mean value multiplier: Parameter to control the threshold in algorithm for ROI calculation. Increase this value will make the algorith less sensitive, and vice versa. Suggested value: 1.\n",
    "\n",
    "\n",
    "* Standard deviation multiplier: Parameter to control the threshold in algorithm for ROI calculation. Increase this value will make the algorith less sensitive, and vice versa. Suggested value: 3.\n",
    "\n",
    "\n",
    "* Overlap parameter: Parameter to control the overlap determination in algorithm for ROI calculation. Increase this value will make the algorith less sensitive to overlapping areas, and vice versa. Suggested value: Depends on your image. If there is a lot of overlapping area on your image, you may want to set this value higher. If there is no overlapping area, set this value to around 0.1."
   ]
  },
  {
   "cell_type": "markdown",
   "metadata": {},
   "source": [
    "#### Set up variables"
   ]
  },
  {
   "cell_type": "code",
   "execution_count": 7,
   "metadata": {},
   "outputs": [],
   "source": [
    "# Depends on where your images are stored.\n",
    "img_path = r'C:\\Users\\robin\\Downloads\\test\\test_ROI.tif'"
   ]
  },
  {
   "cell_type": "code",
   "execution_count": 8,
   "metadata": {},
   "outputs": [],
   "source": [
    "# Depends on where you want the video to be output.\n",
    "dir_path = r'C:\\Users\\robin\\Downloads\\test'"
   ]
  },
  {
   "cell_type": "code",
   "execution_count": 9,
   "metadata": {},
   "outputs": [],
   "source": [
    "# Set up parameters for ROI_locator()\n",
    "par_mean = 1\n",
    "par_std = 3\n",
    "par_overlap = 0.1"
   ]
  },
  {
   "cell_type": "markdown",
   "metadata": {},
   "source": [
    "#### Run the function"
   ]
  },
  {
   "cell_type": "code",
   "execution_count": 10,
   "metadata": {},
   "outputs": [
    {
     "name": "stdout",
     "output_type": "stream",
     "text": [
      "The output video is C:\\Users\\robin\\Downloads\\test\\output.avi\n"
     ]
    }
   ],
   "source": [
    "video_path = ROILocator.ROI_locator(img_path, dir_path, par_mean, par_std, par_overlap)"
   ]
  },
  {
   "cell_type": "markdown",
   "metadata": {},
   "source": [
    "The function prints out the path to the output video. This path is also stored as given variable, for this case it's `video_path`."
   ]
  },
  {
   "cell_type": "code",
   "execution_count": 11,
   "metadata": {},
   "outputs": [
    {
     "data": {
      "text/plain": [
       "'C:\\\\Users\\\\robin\\\\Downloads\\\\test\\\\output.avi'"
      ]
     },
     "execution_count": 11,
     "metadata": {},
     "output_type": "execute_result"
    }
   ],
   "source": [
    "video_path"
   ]
  }
 ],
 "metadata": {
  "kernelspec": {
   "display_name": "Python 3",
   "language": "python",
   "name": "python3"
  },
  "language_info": {
   "codemirror_mode": {
    "name": "ipython",
    "version": 3
   },
   "file_extension": ".py",
   "mimetype": "text/x-python",
   "name": "python",
   "nbconvert_exporter": "python",
   "pygments_lexer": "ipython3",
   "version": "3.7.3"
  }
 },
 "nbformat": 4,
 "nbformat_minor": 2
}
